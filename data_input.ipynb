{
 "cells": [
  {
   "cell_type": "code",
   "execution_count": 90,
   "metadata": {},
   "outputs": [
    {
     "name": "stdout",
     "output_type": "stream",
     "text": [
      "    ID     MOF Periodic Chemical Formula  ρ(g.cm-3)  PLD (Å)  LCD (Å)  \\\n",
      "12  13  ABUWOJ                H7C12O7Zn2    1.15833  4.03039  5.07969   \n",
      "24  25  ACOLIP              H19C22N5O4Zn    1.04949  3.57647  4.91034   \n",
      "\n",
      "    VSA  (m2/cm3)  GSA (m2/g)        vf  vp (cm3/g)  ...  F01[Ne-Rh]  \\\n",
      "12        1007.55     869.832  0.545974    0.532253  ...           0   \n",
      "24           0.00       0.000  0.454051    0.521040  ...           0   \n",
      "\n",
      "    F01[Ne-Pd]  F01[Ne-Ag]  F01[Ne-Cd]  F01[Ne-In]  F01[Ne-Sn]  F01[Ne-Sb]  \\\n",
      "12           0           0           0           0           0           0   \n",
      "24           0           0           0           0           0           0   \n",
      "\n",
      "    F01[Ne-Te]  F01[Ne-I]  F01[Ne-Xe]  \n",
      "12           0          0           0  \n",
      "24           0          0           0  \n",
      "\n",
      "[2 rows x 1024 columns]\n",
      "[['5.395625473' '5.016580520775' 'xeno']\n",
      " ['5.788896266' '4.817801024044944' 'xeno']\n",
      " ['2.323461698' '3.3505466442417773' 'xeno']]\n"
     ]
    }
   ],
   "source": [
    "import pandas as pd\n",
    "import numpy as np\n",
    "import pylab as plt\n",
    "import os\n",
    "\n",
    "###### read ML data ######\n",
    "dfMLOrigin = pd.read_excel('data/ML_data/descriptor_4717MOF.xlsx')\n",
    "\n",
    "###### read flexibility data ##### \n",
    "flexibilityList=os.listdir('data/flexibility_data/y_data/adsorption_data')\n",
    "flexivilityData=[]\n",
    "\n",
    "for i, name in enumerate(flexibilityList):   \n",
    "    df=pd.read_csv('data/flexibility_data/y_data/adsorption_data/'+name)\n",
    "    rigidValue=np.array(df[df.columns[1]],dtype=float)\n",
    "    flexValue=np.mean(np.array(df[df.columns[2:]],dtype=float),axis=1)\n",
    "    label=np.array([name[24:28] for x in range(0,len(flexValue))],dtype=str) \n",
    "    singleSet=np.column_stack([rigidValue,flexValue,label])\n",
    "\n",
    "    if i==0:\n",
    "        MOFName=np.array(df[df.columns[0]],dtype='U6')\n",
    "        flexivilityData=singleSet.copy()\n",
    "    else:\n",
    "        flexivilityData=np.concatenate([flexivilityData.copy(),singleSet.copy()])\n",
    "        \n",
    "##### match two dataSet #######\n",
    "\n",
    "dfML= dfMLOrigin[dfMLOrigin['MOF'].isin(MOFName)]\n",
    "\n",
    "print(dfML.head(2))\n",
    "print(flexivilityData[0:3,:])\n"
   ]
  },
  {
   "cell_type": "code",
   "execution_count": null,
   "metadata": {},
   "outputs": [],
   "source": []
  }
 ],
 "metadata": {
  "kernelspec": {
   "display_name": "Python 3",
   "language": "python",
   "name": "python3"
  },
  "language_info": {
   "codemirror_mode": {
    "name": "ipython",
    "version": 3
   },
   "file_extension": ".py",
   "mimetype": "text/x-python",
   "name": "python",
   "nbconvert_exporter": "python",
   "pygments_lexer": "ipython3",
   "version": "3.6.8"
  }
 },
 "nbformat": 4,
 "nbformat_minor": 2
}
