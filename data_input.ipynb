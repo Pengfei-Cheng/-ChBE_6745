{
 "cells": [
  {
   "cell_type": "code",
   "execution_count": 3,
   "metadata": {},
   "outputs": [
    {
     "name": "stdout",
     "output_type": "stream",
     "text": [
      "    ID     MOF Periodic Chemical Formula  ρ(g.cm-3)  PLD (Å)  LCD (Å)  \\\n",
      "12  13  ABUWOJ                H7C12O7Zn2    1.15833  4.03039  5.07969   \n",
      "24  25  ACOLIP              H19C22N5O4Zn    1.04949  3.57647  4.91034   \n",
      "\n",
      "    VSA  (m2/cm3)  GSA (m2/g)        vf  vp (cm3/g)  ...  F01[Ne-Rh]  \\\n",
      "12        1007.55     869.832  0.545974    0.532253  ...           0   \n",
      "24           0.00       0.000  0.454051    0.521040  ...           0   \n",
      "\n",
      "    F01[Ne-Pd]  F01[Ne-Ag]  F01[Ne-Cd]  F01[Ne-In]  F01[Ne-Sn]  F01[Ne-Sb]  \\\n",
      "12           0           0           0           0           0           0   \n",
      "24           0           0           0           0           0           0   \n",
      "\n",
      "    F01[Ne-Te]  F01[Ne-I]  F01[Ne-Xe]  \n",
      "12           0          0           0  \n",
      "24           0          0           0  \n",
      "\n",
      "[2 rows x 1024 columns]\n",
      "[['5.395625473' '5.016580520775' 'xenon']\n",
      " ['5.788896266' '4.817801024044944' 'xenon']\n",
      " ['2.323461698' '3.3505466442417773' 'xenon']]\n"
     ]
    }
   ],
   "source": [
    "import pandas as pd\n",
    "import numpy as np\n",
    "import os\n",
    "\n",
    "##### match two dataSet #######\n",
    "def datasetMatch(MOFName):\n",
    "    dfML= dfMLOrigin[dfMLOrigin['MOF'].isin(MOFName)]\n",
    "    matchedMOFIndex=np.isin(MOFName, dfML['MOF'].values)\n",
    "    return matchedMOFIndex, dfML\n",
    "\n",
    "\n",
    "###### read ML data ######\n",
    "dfMLOrigin = pd.read_excel('data/ML_data/descriptor_4717MOF.xlsx')\n",
    "\n",
    "###### read flexibility data ##### \n",
    "flexibilityList=os.listdir('data/flexibility_data/y_data/adsorption_data')\n",
    "flexivilityData=[]\n",
    "\n",
    "for i, name in enumerate(flexibilityList):   \n",
    "    df=pd.read_csv('data/flexibility_data/y_data/adsorption_data/'+name)\n",
    "    rigidValue=np.array(df[df.columns[1]],dtype=float)\n",
    "    flexValue=np.mean(np.array(df[df.columns[2:]],dtype=float),axis=1)\n",
    "    label=np.array([name.split(\"_\")[1] for x in range(0,len(flexValue))],dtype=str)\n",
    "    singleSet=np.column_stack([rigidValue,flexValue,label])\n",
    "\n",
    "    if i==0:\n",
    "        MOFName=np.array(df[df.columns[0]],dtype='U6')\n",
    "        matchedMOFIndex, dfML=datasetMatch(MOFName)\n",
    "        flexibilityData=singleSet[matchedMOFIndex,:].copy()\n",
    "    else:\n",
    "        flexibilityData=np.concatenate([flexibilityData.copy(),singleSet[matchedMOFIndex,:].copy()])\n",
    " \n",
    "\n",
    "print(dfML.head(2))\n",
    "print(flexibilityData[0:3,:])\n",
    "\n",
    "# dfML recored 88 MOF's 1024 features (before dimension reduction)\n",
    "# flexibilityData recored [88*9,3] y data \n",
    "# (1st column as rigid, 2nd column as flexible_mean, 3rd column as adsorbate label)"
   ]
  },
  {
   "cell_type": "code",
   "execution_count": 6,
   "metadata": {},
   "outputs": [],
   "source": [
    "### manually add three adsorbatedescriptor####\n",
    "\n",
    "# Mw/gr.mol-1,Tc / K,Pc / bar,ω,Tb / K,Tf / K\n",
    "\n",
    "adsorbateData=[\n",
    "    ['xenon',131.293,289.7,58.4,0.008,164.87,161.2], \n",
    "    ['butane',58.1,449.8,39.5,0.3,280.1,146.7], \n",
    "    ['propene',42.1,436.9,51.7,0.2,254.8,150.6], \n",
    "    ['ethane',30.1,381.8,50.3,0.2,184.0,126.2], \n",
    "    ['propane',44.1,416.5,44.6,0.2,230.1,136.5], \n",
    "    ['CO2',44.0,295.9,71.8,0.2,317.4,204.9], \n",
    "    ['ethene',28.054,282.5,51.2,0.089,169.3,228], \n",
    "    ['methane',16.04,190.4,46.0,0.011,111.5,91],\n",
    "     ['krypton',83.798,209.4,55.0,0.005,119.6,115.6]]"
   ]
  },
  {
   "cell_type": "code",
   "execution_count": null,
   "metadata": {},
   "outputs": [],
   "source": []
  }
 ],
 "metadata": {
  "kernelspec": {
   "display_name": "Python 3",
   "language": "python",
   "name": "python3"
  },
  "language_info": {
   "codemirror_mode": {
    "name": "ipython",
    "version": 3
   },
   "file_extension": ".py",
   "mimetype": "text/x-python",
   "name": "python",
   "nbconvert_exporter": "python",
   "pygments_lexer": "ipython3",
   "version": "3.6.8"
  }
 },
 "nbformat": 4,
 "nbformat_minor": 2
}
