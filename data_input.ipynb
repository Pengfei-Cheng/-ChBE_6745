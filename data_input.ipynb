{
 "cells": [
  {
   "cell_type": "code",
   "execution_count": 89,
   "metadata": {},
   "outputs": [
    {
     "data": {
      "text/plain": [
       "array([['5.395625473', '5.016580520775', 'xeno'],\n",
       "       ['5.788896266', '4.817801024044944', 'xeno'],\n",
       "       ['2.323461698', '3.3505466442417773', 'xeno']], dtype='<U32')"
      ]
     },
     "execution_count": 89,
     "metadata": {},
     "output_type": "execute_result"
    }
   ],
   "source": [
    "import pandas as pd\n",
    "import numpy as np\n",
    "import pylab as plt\n",
    "import os\n",
    "\n",
    "###### read ML data ######\n",
    "dfMLOrigin = pd.read_excel('data/ML_data/descriptor_4717MOF.xlsx')\n",
    "\n",
    "###### read flexibility data ##### \n",
    "flexibilityList=os.listdir('data/flexibility_data/y_data/adsorption_data')\n",
    "flexivilityData=[]\n",
    "\n",
    "for i, name in enumerate(flexibilityList):   \n",
    "    df=pd.read_csv('data/flexibility_data/y_data/adsorption_data/'+name)\n",
    "    rigidValue=np.array(df[df.columns[1]],dtype=float)\n",
    "    flexValue=np.mean(np.array(df[df.columns[2:]],dtype=float),axis=1)\n",
    "    label=np.array([name[24:28] for x in range(0,len(flexValue))],dtype=str) \n",
    "    singleSet=np.column_stack([rigidValue,flexValue,label])\n",
    "\n",
    "    if i==0:\n",
    "        MOFName=np.array(df[df.columns[0]],dtype='U6')\n",
    "        flexivilityData=singleSet.copy()\n",
    "    else:\n",
    "        flexivilityData=np.concatenate([flexivilityData.copy(),singleSet.copy()])\n",
    "        \n",
    "##### match two dataSet #######\n",
    "\n",
    "dfML= dfMLOrigin[dfMLOrigin['MOF'].isin(MOFName)]\n",
    "\n",
    "dfML.head(2)\n",
    "flexivilityData[0:3,:]\n"
   ]
  },
  {
   "cell_type": "code",
   "execution_count": null,
   "metadata": {},
   "outputs": [],
   "source": []
  }
 ],
 "metadata": {
  "kernelspec": {
   "display_name": "Python 3",
   "language": "python",
   "name": "python3"
  },
  "language_info": {
   "codemirror_mode": {
    "name": "ipython",
    "version": 3
   },
   "file_extension": ".py",
   "mimetype": "text/x-python",
   "name": "python",
   "nbconvert_exporter": "python",
   "pygments_lexer": "ipython3",
   "version": "3.6.8"
  }
 },
 "nbformat": 4,
 "nbformat_minor": 2
}
